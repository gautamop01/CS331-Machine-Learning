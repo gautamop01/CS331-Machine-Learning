{
 "cells": [
  {
   "cell_type": "markdown",
   "id": "709b1170",
   "metadata": {},
   "source": [
    "# CS331 - Lab Assignment 3\n",
    "# Group ID = AyKaGaRo\n",
    "# Question 7\n",
    "See this lecture (upto slide 14) https://developers.google.com/machine-learning/crash-course/\n",
    "\n",
    "classification/video-lecture. Design a bayes classifier (optimal) when p0 = 0.95. Also class condi-\n",
    "tional densities for class 0 is normal mean 0 and variance 1. For class 1, class conditional density is mean\n",
    "\n",
    "1 and variance 1.\n",
    "(a) FP for bayes classifier\n",
    "(b) TP for bayes classifier\n",
    "(c) Accuracy\n",
    "(d) For the same setup implement Neyman Pearson Classifier.\n",
    "(e) Generate the ROC curve for various thresholds for the family of classifiers which classify based on\n",
    "likelihood ratio and a threshold as done in Neyman Pearson classifier.\n",
    "(f) Implement max-min classifier"
   ]
  },
  {
   "cell_type": "code",
   "execution_count": 40,
   "id": "a05009c9",
   "metadata": {},
   "outputs": [],
   "source": [
    "import math\n",
    "import matplotlib.pyplot as plt\n",
    "import numpy as np\n",
    "import pandas as pd\n",
    "import seaborn as sns\n",
    "import sklearn.metrics\n",
    "import numpy as np  # Import NumPy library for numerical operations\n",
    "from scipy.stats import norm  # Import the normal distribution from SciPy library"
   ]
  },
  {
   "cell_type": "markdown",
   "id": "df45ef23",
   "metadata": {},
   "source": [
    "# (a) FP for bayes classifier\n",
    "\n",
    "# (b) TP for bayes classifier\n",
    "\n",
    "# (c) Accuracy"
   ]
  },
  {
   "cell_type": "code",
   "execution_count": 41,
   "id": "321a8f34",
   "metadata": {},
   "outputs": [
    {
     "name": "stdout",
     "output_type": "stream",
     "text": [
      "False Positives Is: 0\n",
      "True Negatives Is: 9493\n",
      "False Negatives Is: 503\n",
      "True Positives Is: 4\n",
      "Accuracy Is : 0.9497\n"
     ]
    }
   ],
   "source": [
    "# Define prior probabilities\n",
    "prior_prob_class_0 = 0.95  # Prior probability of class 0\n",
    "prior_prob_class_1 = 0.05  # Prior probability of class 1\n",
    "\n",
    "# Define class conditional densities\n",
    "class0_distribution = norm(0, 1)  # Normal distribution with mean 0 and standard deviation 1 for class 0\n",
    "class1_distribution = norm(1, 1)  # Normal distribution with mean 1 and standard deviation 1 for class 1\n",
    "\n",
    "# Define Bayes classifier function\n",
    "def bayes_classifier(x):\n",
    "    # Calculate likelihoods for each class\n",
    "    likelihood_class_0 = class0_distribution.pdf(x)  # Likelihood of x given class 0\n",
    "    likelihood_class_1 = class1_distribution.pdf(x)  # Likelihood of x given class 1\n",
    "    \n",
    "    # Calculate the marginal likelihood or evidence\n",
    "    evidence = likelihood_class_0 * prior_prob_class_0 + likelihood_class_1 * prior_prob_class_1  # Marginal likelihood or evidence\n",
    "    \n",
    "    # Calculate posterior probabilities\n",
    "    posterior_prob_class_0 = likelihood_class_0 * prior_prob_class_0 / evidence  # Posterior probability of class 0\n",
    "    posterior_prob_class_1 = likelihood_class_1 * prior_prob_class_1 / evidence  # Posterior probability of class 1\n",
    "    \n",
    "    # Make predictions based on posterior probabilities\n",
    "    if posterior_prob_class_0 > posterior_prob_class_1:\n",
    "        return 0  # Predict Class 0\n",
    "    else:\n",
    "        return 1  # Predict Class 1\n",
    "\n",
    "# Generate data\n",
    "num_samples = 10000  # Number of samples\n",
    "true_labels = np.random.binomial(1, prior_prob_class_1, num_samples)  # Generate true labels based on binomial distribution with parameter p1\n",
    "data_points = np.where(true_labels == 0, np.random.normal(0, 1, num_samples), np.random.normal(1, 1, num_samples))  # Generate data points x based on true labels\n",
    "\n",
    "# False Positive (FP) calculation for Bayes classifier\n",
    "predicted_labels = np.array([bayes_classifier(xi) for xi in data_points])  # Predict labels for data points x using Bayes classifier\n",
    "\n",
    "# Calculate False Positives (FP) for Bayes classifier\n",
    "false_positives = np.sum((true_labels == 0) & (predicted_labels == 1))\n",
    "print(\"False Positives Is:\", false_positives)\n",
    "\n",
    "# Calculate True Negatives (TN) for Bayes classifier\n",
    "true_negatives = np.sum((true_labels == 0) & (predicted_labels == 0))\n",
    "print(\"True Negatives Is:\", true_negatives)\n",
    "\n",
    "# Calculate False Negatives (FN) for Bayes classifier\n",
    "false_negatives = np.sum((true_labels == 1) & (predicted_labels == 0))\n",
    "print(\"False Negatives Is:\", false_negatives)\n",
    "\n",
    "# Calculate True Positives (TP) for Bayes classifier\n",
    "true_positives = np.sum((true_labels == 1) & (predicted_labels == 1))\n",
    "print(\"True Positives Is:\", true_positives)\n",
    "\n",
    "# Calculate Accuracy for Bayes classifier\n",
    "accuracy = np.sum(true_labels == predicted_labels) / len(true_labels)\n",
    "print(\"Accuracy Is :\", accuracy)\n"
   ]
  },
  {
   "cell_type": "markdown",
   "id": "5baea327",
   "metadata": {},
   "source": [
    "## ---------------------------------------------------------------------------------------\n",
    "## (d) For the same setup implement Neyman Pearson Classifier.\n",
    "## ---------------------------------------------------------------------------------------\n"
   ]
  },
  {
   "cell_type": "code",
   "execution_count": 42,
   "id": "b4ce95eb",
   "metadata": {},
   "outputs": [
    {
     "name": "stdout",
     "output_type": "stream",
     "text": [
      "Threshold: 2.072691065511005\n",
      "Threshold: 2.072691065511005\n",
      "True Positives (NP): 0\n",
      "True Negatives (NP): 9493\n",
      "False Positives (NP): 0\n",
      "False Negatives (NP): 507\n",
      "Accuracy (NP): 0.9493\n"
     ]
    }
   ],
   "source": [
    "# Neyman-Pearson classifier function\n",
    "def neyman_pearson_classifier(x, threshold):\n",
    "    # Calculate likelihood ratio\n",
    "    likelihood_ratio = class1_distribution.pdf(x) / class0_distribution.pdf(x)\n",
    "    \n",
    "    # Apply thresholding to the likelihood ratio\n",
    "    likelihood_ratio[likelihood_ratio > threshold] = 1\n",
    "    likelihood_ratio[likelihood_ratio <= threshold] = 0\n",
    "    \n",
    "    return likelihood_ratio\n",
    "\n",
    "def calculate_threshold(X, y):\n",
    "    mean_class_0 = np.mean(X[y == 0], axis=0)\n",
    "    mean_class_1 = np.mean(X[y == 1], axis=0)\n",
    "    var_class_0 = np.var(X[y == 0], axis=0)\n",
    "    var_class_1 = np.var(X[y == 1], axis=0)\n",
    "    # Calculate the threshold value based on the given p0\n",
    "    z_alpha = norm.ppf(prior_prob_class_0)\n",
    "    threshold = ((mean_class_1 - mean_class_0) / np.sqrt((var_class_0 + var_class_1) / 2)) * z_alpha + (mean_class_0 + mean_class_1) / 2\n",
    "    return threshold\n",
    "\n",
    "# Calculate threshold based on False Positive Rate (FPR)\n",
    "threshold = calculate_threshold(data_points, true_labels)\n",
    "print(\"Threshold:\", threshold)\n",
    "\n",
    "\n",
    "# Calculate threshold based on False Positive Rate (FPR)\n",
    "threshold = calculate_threshold(data_points, true_labels)\n",
    "print(\"Threshold:\", threshold)\n",
    "\n",
    "# Apply Neyman-Pearson classifier with threshold\n",
    "predicted_labels_np = neyman_pearson_classifier(data_points, threshold)\n",
    "\n",
    "# Calculate True Positives (TP) for Neyman-Pearson classifier\n",
    "true_positives_np = np.sum((true_labels == 1) & (predicted_labels_np == 1))\n",
    "print(\"True Positives (NP):\", true_positives_np)\n",
    "\n",
    "# Calculate True Negatives (TN) for Neyman-Pearson classifier\n",
    "true_negatives_np = np.sum((true_labels == 0) & (predicted_labels_np == 0))\n",
    "print(\"True Negatives (NP):\", true_negatives_np)\n",
    "\n",
    "# Calculate False Positives (FP) for Neyman-Pearson classifier\n",
    "false_positives_np = np.sum((true_labels == 0) & (predicted_labels_np == 1))\n",
    "print(\"False Positives (NP):\", false_positives_np)\n",
    "\n",
    "# Calculate False Negatives (FN) for Neyman-Pearson classifier\n",
    "false_negatives_np = np.sum((true_labels == 1) & (predicted_labels_np == 0))\n",
    "print(\"False Negatives (NP):\", false_negatives_np)\n",
    "\n",
    "# Calculate Accuracy for Neyman-Pearson classifier\n",
    "accuracy_np = np.sum(true_labels == predicted_labels_np) / len(true_labels)\n",
    "print(\"Accuracy (NP):\", accuracy_np)\n"
   ]
  },
  {
   "cell_type": "markdown",
   "id": "26a62822",
   "metadata": {},
   "source": [
    "## ---------------------------------------------------------------------------------------\n",
    "## (E) Generate the ROC curve for various thresholds for the family of classifiers which classify based on likelihood ratio and a threshold as done in Neyman Pearson classifier.\n",
    "## ---------------------------------------------------------------------------------------\n"
   ]
  },
  {
   "cell_type": "code",
   "execution_count": 43,
   "id": "c0023fb8",
   "metadata": {},
   "outputs": [
    {
     "data": {
      "image/png": "[encoded data removed]",
      "text/plain": [
       "<Figure size 800x600 with 1 Axes>"
      ]
     },
     "metadata": {},
     "output_type": "display_data"
    }
   ],
   "source": [
    "import matplotlib.pyplot as plt  # Import the matplotlib library for plotting\n",
    "\n",
    "# Define prior probabilities and class conditional densities\n",
    "prior_prob_class_0 = 0.95  # Prior probability of class 0\n",
    "prior_prob_class_1 = 1 - prior_prob_class_0  # Prior probability of class 1\n",
    "mean_class_0 = 0  # Mean of class 0\n",
    "mean_class_1 = 1  # Mean of class 1\n",
    "std_dev_class_0 = 1  # Standard deviation of class 0\n",
    "std_dev_class_1 = 1  # Standard deviation of class 1\n",
    "\n",
    "# Define the range of thresholds to test\n",
    "thresholds = np.linspace(0, 5, 1000)  # Generate 1000 thresholds between 0 and 5\n",
    "\n",
    "# Initialize lists to store True Positive Rate (TPR) and False Positive Rate (FPR)\n",
    "true_positive_rate = []  # True Positive Rate\n",
    "false_positive_rate = []  # False Positive Rate\n",
    "\n",
    "# Calculate TPR and FPR for each threshold\n",
    "for threshold in thresholds:\n",
    "    # Calculate the likelihood ratio\n",
    "    likelihood_ratio = norm(mean_class_1, std_dev_class_1).pdf(threshold) / norm(mean_class_0, std_dev_class_0).pdf(threshold)\n",
    "    \n",
    "    # Calculate the TPR and FPR\n",
    "    true_positive_rate.append(1 - norm(mean_class_1, std_dev_class_1).cdf(threshold))  # True Positive Rate\n",
    "    false_positive_rate.append(1 - norm(mean_class_0, std_dev_class_0).cdf(threshold))  # False Positive Rate\n",
    "\n",
    "# Plot the ROC curve\n",
    "plt.figure(figsize=(8, 6))  \n",
    "plt.plot(false_positive_rate, true_positive_rate, color='darkblue', lw=2)  \n",
    "plt.title('ROC Curve for Neyman-Pearson Classifier')  \n",
    "plt.xlabel('False Positive Rate')  \n",
    "plt.ylabel('True Positive Rate')  \n",
    "plt.grid(True)\n",
    "\n",
    "ax = plt.gca()\n",
    "ax.set_facecolor('#d4db07')\n",
    "\n",
    "plt.show()  \n"
   ]
  },
  {
   "cell_type": "markdown",
   "id": "bd9b56a0",
   "metadata": {},
   "source": [
    "## ---------------------------------------------------------------------------------------\n",
    "## (F) Implement max-min classifier\n",
    "## ---------------------------------------------------------------------------------------\n"
   ]
  },
  {
   "cell_type": "code",
   "execution_count": 44,
   "id": "d91bd811",
   "metadata": {},
   "outputs": [
    {
     "name": "stdout",
     "output_type": "stream",
     "text": [
      "False Positives (MM): 3037\n",
      "True Positives (MM): 348\n",
      "False Negatives (MM): 159\n",
      "True Negatives (MM): 6456\n",
      "Accuracy (MM): 0.6804\n"
     ]
    }
   ],
   "source": [
    "# Calculate mean and variance for class 0 and class 1\n",
    "class0_mean, class0_var = norm.fit(data_points[true_labels == 0])  # Mean and variance of class 0\n",
    "class1_mean, class1_var = norm.fit(data_points[true_labels == 1])  # Mean and variance of class 1\n",
    "\n",
    "# Define the max-min classifier function\n",
    "def max_min_classifier(x):\n",
    "    # Calculate distances from the means of class 0 and class 1\n",
    "    dist_class0 = np.abs(x - class0_mean)  # Distance from class 0 mean\n",
    "    dist_class1 = np.abs(x - class1_mean)  # Distance from class 1 mean\n",
    "    \n",
    "    # Compare the minimum distances and make predictions\n",
    "    if np.min(dist_class0) > np.min(dist_class1):\n",
    "        return 1  # Predict Class 1\n",
    "    else:\n",
    "        return 0  # Predict Class 0\n",
    "\n",
    "# Calculate predicted labels using the max-min classifier\n",
    "predicted_labels_mm = np.array([max_min_classifier(xi) for xi in data_points])\n",
    "\n",
    "# Calculate False Positives (FP) for max-min classifier\n",
    "false_positives_mm = np.sum((true_labels == 0) & (predicted_labels_mm == 1))\n",
    "print(\"False Positives (MM):\", false_positives_mm)\n",
    "\n",
    "# Calculate True Positives (TP) for max-min classifier\n",
    "true_positives_mm = np.sum((true_labels == 1) & (predicted_labels_mm == 1))\n",
    "print(\"True Positives (MM):\", true_positives_mm)\n",
    "\n",
    "# Calculate False Negatives (FN) for max-min classifier\n",
    "false_negatives_mm = np.sum((true_labels == 1) & (predicted_labels_mm == 0))\n",
    "print(\"False Negatives (MM):\", false_negatives_mm)\n",
    "\n",
    "# Calculate True Negatives (TN) for max-min classifier\n",
    "true_negatives_mm = np.sum((true_labels == 0) & (predicted_labels_mm == 0))\n",
    "print(\"True Negatives (MM):\", true_negatives_mm)\n",
    "\n",
    "# Calculate Accuracy for max-min classifier\n",
    "accuracy_mm = np.sum(true_labels == predicted_labels_mm) / len(true_labels)\n",
    "print(\"Accuracy (MM):\", accuracy_mm)\n"
   ]
  },
  {
   "cell_type": "markdown",
   "id": "4e7d0d2d",
   "metadata": {},
   "source": [
    "**Thank you**\n"
   ]
  },
  {
   "cell_type": "code",
   "execution_count": null,
   "id": "1f26ebfd",
   "metadata": {},
   "outputs": [],
   "source": []
  },
  {
   "cell_type": "code",
   "execution_count": null,
   "id": "2bb7efd1",
   "metadata": {},
   "outputs": [],
   "source": []
  },
  {
   "cell_type": "code",
   "execution_count": null,
   "id": "253c2353",
   "metadata": {},
   "outputs": [],
   "source": []
  }
 ],
 "metadata": {
  "kernelspec": {
   "display_name": "Python 3 (ipykernel)",
   "language": "python",
   "name": "python3"
  },
  "language_info": {
   "codemirror_mode": {
    "name": "ipython",
    "version": 3
   },
   "file_extension": ".py",
   "mimetype": "text/x-python",
   "name": "python",
   "nbconvert_exporter": "python",
   "pygments_lexer": "ipython3",
   "version": "3.11.5"
  }
 },
 "nbformat": 4,
 "nbformat_minor": 5
}
