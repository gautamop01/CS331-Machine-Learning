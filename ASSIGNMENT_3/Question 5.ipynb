{
 "cells": [
  {
   "cell_type": "markdown",
   "id": "709b1170",
   "metadata": {},
   "source": [
    "# CS331 - Lab Assignment 3\n",
    "# Group ID = AyKaGaRo\n",
    "# Question 5\n",
    "(Unsupervised labeling) This exercise concerns the classdemo.py file shared with you. The EM algorithm\n",
    "learns the hidden parameters fairly well. This question asks you to classify every point to each coin.\n",
    "Record the error rate of this “classifier”."
   ]
  },
  {
   "cell_type": "code",
   "execution_count": 1,
   "id": "ffe3662d",
   "metadata": {},
   "outputs": [
    {
     "name": "stdout",
     "output_type": "stream",
     "text": [
      "0.0936583431669881 0.7923749295780526\n"
     ]
    }
   ],
   "source": [
    "import numpy as np\n",
    "\n",
    "ta = 0.1   # Bias of coin A\n",
    "tb = 0.8   # Bias of coin B\n",
    "\n",
    "d = 10\n",
    "n = 100   # Total number of samples\n",
    "z = np.zeros(n) # Hidden variables: 0 for A, 1 for B\n",
    "x = np.zeros(n) # Number of heads observed\n",
    "\n",
    "# Generating data\n",
    "for i in range(n):\n",
    "    if np.random.uniform() < 0.5:\n",
    "        x[i]  = np.random.binomial(d,ta)\n",
    "    else:\n",
    "        x[i]  = np.random.binomial(d,tb)\n",
    "        z[i]=1\n",
    "        \n",
    "## forget zs\n",
    "currAEst = 0.51 #beta or uniform choices are ok  \n",
    "currBEst = 0.534\n",
    "\n",
    "repeatcount = 1000  # instead of checking for convergence\n",
    "gammaiA = np.zeros(n)\n",
    "gammaiB = np.zeros(n)\n",
    "for i in range(repeatcount):\n",
    "    ## EStep starts\n",
    "    for j in range(n):\n",
    "        gammaiA[j] = 0.5* np.power(currAEst,x[j]) *np.power(1-currAEst,d-x[j]) \n",
    "        gammaiA[j] /= (0.5*np.power(currAEst,x[j]) *np.power(1-currAEst,d-x[j]) + 0.5* np.power(currBEst,x[j]) *np.power(1-currBEst,d-x[j]) )\n",
    "        gammaiB[j] = 1 - gammaiA[j]\n",
    "    numA = denA = numB = denB = 0\n",
    "    #Estep ends\n",
    "    \n",
    "    #MStep starts\n",
    "    for k in range(n):       \n",
    "        numA += gammaiA[k]*x[k]\n",
    "        numB += gammaiB[k]*x[k]\n",
    "        denA += gammaiA[k]*d\n",
    "        denB += gammaiB[k]*d\n",
    "    currAEst = numA/denA\n",
    "    currBEst = numB/denB\n",
    "    #Msteps ends\n",
    "\n",
    "print(currAEst,currBEst)"
   ]
  },
  {
   "cell_type": "markdown",
   "id": "01388e28",
   "metadata": {},
   "source": [
    "### This question asks you to classify every point to each coin. Record the error rate of this “classifier”.\n"
   ]
  },
  {
   "cell_type": "code",
   "execution_count": 2,
   "id": "cc29b416",
   "metadata": {},
   "outputs": [],
   "source": [
    "def classifier(AEst, BEst, d, xi):\n",
    "\n",
    "    # Calculate the posterior probability of observing the data given coin A\n",
    "    prob_A = (AEst ** xi) * ((1 - AEst) ** (d - xi))\n",
    "    \n",
    "    # Calculate the posterior probability of observing the data given coin B\n",
    "    prob_B = (BEst ** xi) * ((1 - BEst) ** (d - xi))\n",
    "    \n",
    "    # Compare the posterior probabilities to determine coin assignment\n",
    "    if prob_A > prob_B:\n",
    "        return 0  # Assign to coin A\n",
    "    else:\n",
    "        return 1  # Assign to coin B\n"
   ]
  },
  {
   "cell_type": "code",
   "execution_count": 3,
   "id": "861bac50",
   "metadata": {},
   "outputs": [
    {
     "name": "stdout",
     "output_type": "stream",
     "text": [
      "Results:\n",
      "---------------\n",
      "Misclassified points: 0 out of 100 points\n",
      "Error rate of the classifier: 0.00%\n"
     ]
    }
   ],
   "source": [
    "# Initialize the count of misclassified points\n",
    "mp = 0\n",
    "\n",
    "# Check each point\n",
    "for i in range(n):\n",
    "    # Classify the point using the classifier function\n",
    "    # Assigned Coin is\n",
    "    ac = classifier(currAEst, currBEst, d, x[i])\n",
    "    \n",
    "    # Increment mp if the assigned coin does not match the actual coin\n",
    "    if z[i] != ac:\n",
    "        mp = mp + 1\n",
    "\n",
    "print(\"Results:\")\n",
    "print(\"---------------\")\n",
    "\n",
    "# Print the number of misclassified points and total points\n",
    "print('Misclassified points: {} out of {} points'.format(mp, n))\n",
    "\n",
    "# Calculate and print the error rate of the classifier\n",
    "er = (mp / n) * 100\n",
    "print(\"Error rate of the classifier: {:.2f}%\".format(er))\n"
   ]
  },
  {
   "cell_type": "markdown",
   "id": "eecce411",
   "metadata": {},
   "source": [
    "**Thank you**\n"
   ]
  }
 ],
 "metadata": {
  "kernelspec": {
   "display_name": "Python 3 (ipykernel)",
   "language": "python",
   "name": "python3"
  },
  "language_info": {
   "codemirror_mode": {
    "name": "ipython",
    "version": 3
   },
   "file_extension": ".py",
   "mimetype": "text/x-python",
   "name": "python",
   "nbconvert_exporter": "python",
   "pygments_lexer": "ipython3",
   "version": "3.11.5"
  }
 },
 "nbformat": 4,
 "nbformat_minor": 5
}
